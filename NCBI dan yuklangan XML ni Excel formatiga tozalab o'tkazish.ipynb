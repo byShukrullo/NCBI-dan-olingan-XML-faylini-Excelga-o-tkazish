{
 "cells": [
  {
   "cell_type": "markdown",
   "metadata": {},
   "source": [
    "# Kerakli modullarni yuklash va o'rnatish"
   ]
  },
  {
   "cell_type": "code",
   "execution_count": null,
   "metadata": {},
   "outputs": [],
   "source": [
    "pip install openpyxl pandas\n",
    "\n",
    "import xml.etree.ElementTree as ET\n",
    "import pandas as pd"
   ]
  },
  {
   "cell_type": "markdown",
   "metadata": {},
   "source": [
    "# XML faylini ochish"
   ]
  },
  {
   "cell_type": "markdown",
   "metadata": {},
   "source": [
    "#XML faylni ochish..."
   ]
  },
  {
   "cell_type": "code",
   "execution_count": null,
   "metadata": {},
   "outputs": [],
   "source": [
    "tree = ET.parse('fayl joylashgan PATH ni shu yerga yozing')\n",
    "root = tree.getroot()"
   ]
  },
  {
   "cell_type": "markdown",
   "metadata": {},
   "source": [
    "# XML tuzilmasini tekshirish\n"
   ]
  },
  {
   "cell_type": "code",
   "execution_count": null,
   "metadata": {},
   "outputs": [],
   "source": [
    "print(root.tag, root.attrib)\n"
   ]
  },
  {
   "cell_type": "markdown",
   "metadata": {},
   "source": [
    "# XML faylini tozalash uchun data format yaratib olamiz\n"
   ]
  },
  {
   "cell_type": "code",
   "execution_count": null,
   "metadata": {},
   "outputs": [],
   "source": [
    "\n",
    "data = []\n",
    "for child in root.findall('.//Gene'): \n",
    "    gene_name = child.find('GeneName').text\n",
    "    chromosome = child.find('Chromosome').text\n",
    "    position = child.find('Position').text\n",
    "    data.append([gene_name, chromosome, position])\n",
    "\n",
    "df = pd.DataFrame(data, columns=['GeneName', 'Chromosome', 'Position'])"
   ]
  },
  {
   "cell_type": "markdown",
   "metadata": {},
   "source": [
    "# Excel fayliga ko'chirish"
   ]
  },
  {
   "cell_type": "code",
   "execution_count": null,
   "metadata": {},
   "outputs": [],
   "source": [
    "df.to_excel('faylni nomlang.xlsx', index=False)\n",
    "\n",
    "print(\"Ma'lumot Excel faylga eksport qilindi.\")\n"
   ]
  }
 ],
 "metadata": {
  "language_info": {
   "name": "python"
  }
 },
 "nbformat": 4,
 "nbformat_minor": 2
}
